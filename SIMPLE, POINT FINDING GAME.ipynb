{
 "cells": [
  {
   "cell_type": "markdown",
   "metadata": {},
   "source": [
    "Game rules:\n",
    "\n",
    "- Randomly generated coordinate within a frame (use random)\n",
    "- User must click and guess where this coordinate is\n",
    "- Each time they click, the game tells them how far away their guess is\n",
    "- When user is within 5 then they win\n",
    "\n",
    "Optional:\n",
    "\n",
    "- When they win the game tells how many guesses it took them\n",
    "- Add a title and icon to the window that is to do with tresure\n",
    "- Have a button appear after ten guesses that allows user to guess within a range of ten (like a priate cannon)"
   ]
  },
  {
   "cell_type": "code",
   "execution_count": 1,
   "metadata": {},
   "outputs": [],
   "source": [
    "from tkinter import *\n",
    "import random\n",
    "\n",
    "root = Tk()\n",
    "\n",
    "root.title(\"Find the point!\")\n",
    "#root.iconbitmap(\"CsIcon.ico\") #use your own logo\n",
    "\n",
    "x_coord = random.randint(0,200)\n",
    "y_coord = random.randint(0,200)\n",
    "button_counter = 1\n",
    "counter = 0\n",
    "\n",
    "def guess(event):\n",
    "    global counter\n",
    "    counter += 1\n",
    "    if counter >= 10:\n",
    "        global button_counter\n",
    "        if button_counter == 1:\n",
    "            button1 = Button(root, text = \"Use parrot\")\n",
    "            button1.bind(\"<Button-1>\", parrot)\n",
    "            button1.pack()\n",
    "        \n",
    "    print(\"You clicked at x: {} y: {}. You are {} away from x and {} away from y\".format(event.x, event.y, abs(event.x-x_coord),\n",
    "                                                                                        abs(event.y-y_coord)))\n",
    "\n",
    "    if abs(event.x-x_coord) < 5 and abs(event.y-y_coord) < 5:\n",
    "        print(\"YOU HAVE FOUND THE POINT\")\n",
    "        welcome_label.config(text=\"You have won! Guesses: {}\".format(counter))\n",
    "        \n",
    "\n",
    "def parrot(event):\n",
    "    print(\"Parrot search\")\n",
    "    global button_counter\n",
    "    button_counter -= 1\n",
    "       \n",
    "    print(\"You clicked at x: {} y: {}. You are {} away from x and {} away from y\".format(event.x, event.y, abs(event.x-x_coord),\n",
    "                                                                                        abs(event.y-y_coord)))\n",
    "\n",
    "    if abs(event.x-x_coord) < 10 and abs(event.y-y_coord) < 10:\n",
    "        print(\"YOU HAVE FOUND THE POINT\")\n",
    "        welcome_label.config(text=\"You have won! Guesses: {}\".format(counter))\n",
    "        \n",
    "        \n",
    "welcome_label = Label(root, text=\"Click on the map for finding random point\")    \n",
    "myframe = Frame(root, bg=\"Yellow\", height=200, width=200)\n",
    "\n",
    "myframe.bind(\"<Button-1>\", guess)\n",
    "\n",
    "welcome_label.pack()\n",
    "myframe.pack()\n",
    "\n",
    "root.mainloop()"
   ]
  }
 ],
 "metadata": {
  "kernelspec": {
   "display_name": "Python 3",
   "language": "python",
   "name": "python3"
  },
  "language_info": {
   "codemirror_mode": {
    "name": "ipython",
    "version": 3
   },
   "file_extension": ".py",
   "mimetype": "text/x-python",
   "name": "python",
   "nbconvert_exporter": "python",
   "pygments_lexer": "ipython3",
   "version": "3.6.5"
  }
 },
 "nbformat": 4,
 "nbformat_minor": 2
}
